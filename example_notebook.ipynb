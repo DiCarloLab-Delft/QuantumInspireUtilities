{
 "cells": [
  {
   "cell_type": "markdown",
   "metadata": {},
   "source": [
    "# $T_1$ under repeated measurement using QI 2.0"
   ]
  },
  {
   "cell_type": "markdown",
   "metadata": {},
   "source": [
    "Let's first do the necessary imports and login in the Quantum Inspire website. "
   ]
  },
  {
   "cell_type": "code",
   "execution_count": 1,
   "metadata": {},
   "outputs": [
    {
     "name": "stdout",
     "output_type": "stream",
     "text": [
      "Please continue logging in by opening: https://quantum-inspire-staging.eu.auth0.com/activate?user_code=RMLW-PBJH in your browser\n",
      "If promped to verify a code, please confirm it is as follows: RMLW-PBJH\n",
      "Login successful!\n",
      "Using member ID 37\n"
     ]
    },
    {
     "name": "stderr",
     "output_type": "stream",
     "text": [
      "Exception ignored in: <function _ProactorBasePipeTransport.__del__ at 0x0000019643935DC0>\n",
      "Traceback (most recent call last):\n",
      "  File \"C:\\Users\\rdicarlo\\Anaconda3\\envs\\qi_2.0\\lib\\asyncio\\proactor_events.py\", line 116, in __del__\n",
      "    self.close()\n",
      "  File \"C:\\Users\\rdicarlo\\Anaconda3\\envs\\qi_2.0\\lib\\asyncio\\proactor_events.py\", line 108, in close\n",
      "    self._loop.call_soon(self._call_connection_lost, None)\n",
      "  File \"C:\\Users\\rdicarlo\\Anaconda3\\envs\\qi_2.0\\lib\\asyncio\\base_events.py\", line 751, in call_soon\n",
      "    self._check_closed()\n",
      "  File \"C:\\Users\\rdicarlo\\Anaconda3\\envs\\qi_2.0\\lib\\asyncio\\base_events.py\", line 515, in _check_closed\n",
      "    raise RuntimeError('Event loop is closed')\n",
      "RuntimeError: Event loop is closed\n",
      "Exception ignored in: <function _ProactorBasePipeTransport.__del__ at 0x0000019643935DC0>\n",
      "Traceback (most recent call last):\n",
      "  File \"C:\\Users\\rdicarlo\\Anaconda3\\envs\\qi_2.0\\lib\\asyncio\\proactor_events.py\", line 116, in __del__\n",
      "    self.close()\n",
      "  File \"C:\\Users\\rdicarlo\\Anaconda3\\envs\\qi_2.0\\lib\\asyncio\\proactor_events.py\", line 108, in close\n",
      "    self._loop.call_soon(self._call_connection_lost, None)\n",
      "  File \"C:\\Users\\rdicarlo\\Anaconda3\\envs\\qi_2.0\\lib\\asyncio\\base_events.py\", line 751, in call_soon\n",
      "    self._check_closed()\n",
      "  File \"C:\\Users\\rdicarlo\\Anaconda3\\envs\\qi_2.0\\lib\\asyncio\\base_events.py\", line 515, in _check_closed\n",
      "    raise RuntimeError('Event loop is closed')\n",
      "RuntimeError: Event loop is closed\n"
     ]
    }
   ],
   "source": [
    "from qiskit import QuantumCircuit\n",
    "from qiskit_quantuminspire.qi_provider import QIProvider\n",
    "import matplotlib.pyplot as plt\n",
    "import numpy as np\n",
    "from UtilityFunctions_QI_2_py import *\n",
    "import matplotlib.pyplot as plt\n",
    "from PIL import Image\n",
    "from IPython.display import display\n",
    "\n",
    "provider = QIProvider()\n",
    "backend = \"Starmon 7\"\n",
    "\n",
    "!qi login \"https://staging.qi2.quantum-inspire.com\""
   ]
  },
  {
   "cell_type": "markdown",
   "metadata": {},
   "source": [
    "Using the function NewDay() will create a folder in the path specified in the UtilityFunctions_QI_2.py where we will save all our results."
   ]
  },
  {
   "cell_type": "code",
   "execution_count": 2,
   "metadata": {},
   "outputs": [
    {
     "name": "stdout",
     "output_type": "stream",
     "text": [
      "Creation of the directory C:\\Users\\rdicarlo\\OneDrive - Delft University of Technology\\Desktop\\Delft\\QI_2.0\\Data/Data_250128 failed\n"
     ]
    }
   ],
   "source": [
    "DataPath = NewDay()"
   ]
  },
  {
   "cell_type": "markdown",
   "metadata": {},
   "source": [
    "We can now create the circuit using Qiskit."
   ]
  },
  {
   "cell_type": "code",
   "execution_count": 8,
   "metadata": {},
   "outputs": [
    {
     "data": {
      "text/plain": [
       "<qiskit.circuit.instructionset.InstructionSet at 0x21eeb922a30>"
      ]
     },
     "execution_count": 8,
     "metadata": {},
     "output_type": "execute_result"
    }
   ],
   "source": [
    "nr_qubits = 7\n",
    "nr_bits = 15\n",
    "\n",
    "wait_time = 5-6 # s\n",
    "IGate_duration = 20e-9 # s\n",
    "nr_IG_wait_time = int(wait_time / IGate_duration)\n",
    "\n",
    "qubit_index = 0\n",
    "\n",
    "circuit = QuantumCircuit(nr_qubits, nr_bits) # define the quantum circuit\n",
    "circuit.x(qubit_index)\n",
    "for measurement_index in range(nr_bits - 1):\n",
    "    circuit.measure(qubit = qubit_index, cbit = measurement_index)\n",
    "    circuit.delay(nr_IG_wait_time, qubit_index)\n",
    "circuit.measure(qubit = qubit_index, cbit = measurement_index + 1)"
   ]
  },
  {
   "cell_type": "markdown",
   "metadata": {},
   "source": [
    "If you want to see the circuit run the cell below."
   ]
  },
  {
   "cell_type": "code",
   "execution_count": null,
   "metadata": {},
   "outputs": [],
   "source": [
    "circuit.draw('mpl')"
   ]
  },
  {
   "cell_type": "markdown",
   "metadata": {},
   "source": [
    "Choose the name of the files that we will create and save. "
   ]
  },
  {
   "cell_type": "code",
   "execution_count": 9,
   "metadata": {},
   "outputs": [],
   "source": [
    "basename = 'Example'\n",
    "suffix = 'T1_under_measurement_w10us'\n",
    "histname, circuit_name, rawname = PrepFile(basename, suffix, doraw=1)"
   ]
  },
  {
   "cell_type": "markdown",
   "metadata": {},
   "source": [
    "Specify the number of shots and run the algorithm."
   ]
  },
  {
   "cell_type": "code",
   "execution_count": 10,
   "metadata": {},
   "outputs": [],
   "source": [
    "nr_shots = 2**14\n",
    "\n",
    "results = API_RunAndSave(0, Qcircuit = circuit, rawdata_filename = rawname, circuit_name=circuit_name, histname = histname, shots=nr_shots, backend_name=backend, get_results = True, get_hist_data=True, measurement_list=[1, 1, 1, 1, 1, 1, 1, 1, 1, 1], get_raw_data=True)"
   ]
  },
  {
   "cell_type": "markdown",
   "metadata": {},
   "source": [
    "### Data analysis"
   ]
  },
  {
   "cell_type": "markdown",
   "metadata": {},
   "source": [
    "The data are saved in a csv file in the format:"
   ]
  },
  {
   "cell_type": "code",
   "execution_count": null,
   "metadata": {},
   "outputs": [],
   "source": [
    "img = Image.open(r'C:\\Users\\rdicarlo\\OneDrive - Delft University of Technology\\Desktop\\Delft\\QI_2.0\\img\\raw_data_csv.png')\n",
    "img = img.resize((200, 500))\n",
    "display(img)"
   ]
  },
  {
   "cell_type": "code",
   "execution_count": 11,
   "metadata": {},
   "outputs": [],
   "source": [
    "df = pd.read_csv(rawname+\"_0.csv\")\n",
    "measurement_outcomes_list = np.zeros((len(df[\"Raw data values\"]), (len(df[\"Raw data values\"][0])-1)), dtype = np.int8)\n",
    "\n",
    "for shot_index in range(len(df[\"Raw data values\"])):\n",
    "    for measurement_index in range(1, len(df[\"Raw data values\"][0])):\n",
    "        measurement_outcomes_list[shot_index][(measurement_index - 1)] = np.int8(df[\"Raw data values\"][shot_index][len(df[\"Raw data values\"][0]) - measurement_index])"
   ]
  },
  {
   "cell_type": "code",
   "execution_count": 12,
   "metadata": {},
   "outputs": [
    {
     "data": {
      "text/plain": [
       "Text(0.5, 0, 'Time (us)')"
      ]
     },
     "execution_count": 12,
     "metadata": {},
     "output_type": "execute_result"
    },
    {
     "data": {
      "image/png": "[encoded data removed]",
      "text/plain": [
       "<Figure size 400x300 with 1 Axes>"
      ]
     },
     "metadata": {},
     "output_type": "display_data"
    }
   ],
   "source": [
    "fig, ax = plt.subplots(1, 1, figsize=(4, 3), sharey = 'row', sharex = 'col')\n",
    "ax.plot(np.arange(len(np.sum(measurement_outcomes_list, 0))) * (wait_time * 1e6 + 1), np.sum(measurement_outcomes_list, 0) / nr_shots, '-o')\n",
    "\n",
    "ax.set_ylim(0, 1)\n",
    "ax.set_xlim(-1.5, max(np.arange(len(np.sum(measurement_outcomes_list, 0))) * (wait_time * 1e6 + 1)) + 1.5)\n",
    "\n",
    "ax.set_title('$T_1$ under repeated measurement')\n",
    "ax.set_ylabel('Fraction')\n",
    "ax.set_xlabel('Time (us)')"
   ]
  },
  {
   "cell_type": "code",
   "execution_count": null,
   "metadata": {},
   "outputs": [],
   "source": []
  }
 ],
 "metadata": {
  "kernelspec": {
   "display_name": "qi_2.0",
   "language": "python",
   "name": "python3"
  },
  "language_info": {
   "codemirror_mode": {
    "name": "ipython",
    "version": 3
   },
   "file_extension": ".py",
   "mimetype": "text/x-python",
   "name": "python",
   "nbconvert_exporter": "python",
   "pygments_lexer": "ipython3",
   "version": "3.9.20"
  }
 },
 "nbformat": 4,
 "nbformat_minor": 2
}
