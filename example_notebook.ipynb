{
 "cells": [
  {
   "cell_type": "markdown",
   "metadata": {},
   "source": [
    "# $T_1$ under repeated measurement using QI 2.0"
   ]
  },
  {
   "cell_type": "markdown",
   "metadata": {},
   "source": [
    "Let's first do the necessary imports and login in the Quantum Inspire website. "
   ]
  },
  {
   "cell_type": "code",
   "execution_count": null,
   "metadata": {},
   "outputs": [],
   "source": [
    "from qiskit import QuantumCircuit\n",
    "from qiskit_quantuminspire.qi_provider import QIProvider\n",
    "import matplotlib.pyplot as plt\n",
    "import numpy as np\n",
    "from utility_functions import *\n",
    "import matplotlib.pyplot as plt\n",
    "from PIL import Image\n",
    "from IPython.display import display\n",
    "\n",
    "provider = QIProvider()\n",
    "backend = \"Starmon 7\"\n",
    "\n",
    "!qi login \"https://staging.qi2.quantum-inspire.com\""
   ]
  },
  {
   "cell_type": "markdown",
   "metadata": {},
   "source": [
    "Using the function new_day() will create a folder in the path specified in the utility_functions.py where we will save all our results."
   ]
  },
  {
   "cell_type": "code",
   "execution_count": null,
   "metadata": {},
   "outputs": [],
   "source": [
    "DataPath = new_day()"
   ]
  },
  {
   "cell_type": "markdown",
   "metadata": {},
   "source": [
    "We can now create the circuit using Qiskit."
   ]
  },
  {
   "cell_type": "code",
   "execution_count": null,
   "metadata": {},
   "outputs": [],
   "source": [
    "nr_qubits = 7\n",
    "nr_bits = 15\n",
    "\n",
    "wait_time = 5-6 # s\n",
    "IGate_duration = 20e-9 # s\n",
    "nr_IG_wait_time = int(wait_time / IGate_duration)\n",
    "\n",
    "qubit_index = 0\n",
    "\n",
    "circuit = QuantumCircuit(nr_qubits, nr_bits) # define the quantum circuit\n",
    "circuit.x(qubit_index)\n",
    "for measurement_index in range(nr_bits - 1):\n",
    "    circuit.measure(qubit = qubit_index, cbit = measurement_index)\n",
    "    circuit.delay(nr_IG_wait_time, qubit_index)\n",
    "circuit.measure(qubit = qubit_index, cbit = measurement_index + 1)"
   ]
  },
  {
   "cell_type": "markdown",
   "metadata": {},
   "source": [
    "If you want to see the circuit run the cell below."
   ]
  },
  {
   "cell_type": "code",
   "execution_count": null,
   "metadata": {},
   "outputs": [],
   "source": [
    "circuit.draw('mpl')"
   ]
  },
  {
   "cell_type": "markdown",
   "metadata": {},
   "source": [
    "Choose the name of the files that we will create and save. "
   ]
  },
  {
   "cell_type": "code",
   "execution_count": 9,
   "metadata": {},
   "outputs": [],
   "source": [
    "basename = 'Example'\n",
    "suffix = 'T1_under_measurement_w10us'\n",
    "histname, circuit_name, rawname = prepare_file(basename, suffix, doraw=1)"
   ]
  },
  {
   "cell_type": "markdown",
   "metadata": {},
   "source": [
    "Specify the number of shots and run the algorithm."
   ]
  },
  {
   "cell_type": "code",
   "execution_count": 10,
   "metadata": {},
   "outputs": [],
   "source": [
    "nr_shots = 2**14\n",
    "\n",
    "results = api_run_and_save(0, Qcircuit = circuit, rawdata_filename = rawname, circuit_name=circuit_name,\n",
    "                           histname = histname, shots=nr_shots, backend_name=backend, get_results = True,\n",
    "                           get_hist_data=True, measurement_list=[1, 1, 1, 1, 1, 1, 1, 1, 1, 1], get_raw_data=True)"
   ]
  },
  {
   "cell_type": "markdown",
   "metadata": {},
   "source": [
    "### Data analysis"
   ]
  },
  {
   "cell_type": "markdown",
   "metadata": {},
   "source": [
    "The data are saved in a csv file in the format:"
   ]
  },
  {
   "cell_type": "code",
   "execution_count": null,
   "metadata": {},
   "outputs": [],
   "source": [
    "img = Image.open(r'C:\\Users\\rdicarlo\\OneDrive - Delft University of Technology\\Desktop\\Delft\\QI_2.0\\img\\raw_data_csv.png')\n",
    "img = img.resize((200, 500))\n",
    "display(img)"
   ]
  },
  {
   "cell_type": "code",
   "execution_count": 11,
   "metadata": {},
   "outputs": [],
   "source": [
    "df = pd.read_csv(rawname+\"_0.csv\")\n",
    "measurement_outcomes_list = np.zeros((len(df[\"Raw data values\"]), (len(df[\"Raw data values\"][0])-1)), dtype = np.int8)\n",
    "\n",
    "for shot_index in range(len(df[\"Raw data values\"])):\n",
    "    for measurement_index in range(1, len(df[\"Raw data values\"][0])):\n",
    "        measurement_outcomes_list[shot_index][(measurement_index - 1)] = np.int8(df[\"Raw data values\"][shot_index][len(df[\"Raw data values\"][0]) - measurement_index])"
   ]
  },
  {
   "cell_type": "code",
   "execution_count": null,
   "metadata": {},
   "outputs": [],
   "source": [
    "fig, ax = plt.subplots(1, 1, figsize=(4, 3), sharey = 'row', sharex = 'col')\n",
    "ax.plot(np.arange(len(np.sum(measurement_outcomes_list, 0))) * (wait_time * 1e6 + 1), np.sum(measurement_outcomes_list, 0) / nr_shots, '-o')\n",
    "\n",
    "ax.set_ylim(0, 1)\n",
    "ax.set_xlim(-1.5, max(np.arange(len(np.sum(measurement_outcomes_list, 0))) * (wait_time * 1e6 + 1)) + 1.5)\n",
    "\n",
    "ax.set_title('$T_1$ under repeated measurement')\n",
    "ax.set_ylabel('Fraction')\n",
    "ax.set_xlabel('Time (us)')"
   ]
  }
 ],
 "metadata": {
  "kernelspec": {
   "display_name": "quantuminspire",
   "language": "python",
   "name": "python3"
  },
  "language_info": {
   "codemirror_mode": {
    "name": "ipython",
    "version": 3
   },
   "file_extension": ".py",
   "mimetype": "text/x-python",
   "name": "python",
   "nbconvert_exporter": "python",
   "pygments_lexer": "ipython3",
   "version": "3.12.8"
  }
 },
 "nbformat": 4,
 "nbformat_minor": 2
}
